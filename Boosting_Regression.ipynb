{
 "cells": [
  {
   "cell_type": "code",
   "execution_count": 1,
   "metadata": {
    "collapsed": true
   },
   "outputs": [],
   "source": [
    "%matplotlib inline\n",
    "\n",
    "import numpy as np\n",
    "import pandas as pd\n",
    "import matplotlib.pyplot as plt\n",
    "\n",
    "from sklearn.tree import DecisionTreeRegressor \n",
    "from sklearn.ensemble import AdaBoostRegressor\n"
   ]
  },
  {
   "cell_type": "code",
   "execution_count": 2,
   "metadata": {
    "collapsed": true
   },
   "outputs": [],
   "source": [
    "train = pd.read_csv('data/Deep_housingdata.csv', index_col = 0, header = 0)"
   ]
  },
  {
   "cell_type": "code",
   "execution_count": 3,
   "metadata": {
    "collapsed": true
   },
   "outputs": [],
   "source": [
    "test = pd.read_csv('data/test_full.csv', index_col = 0, header = 0)"
   ]
  },
  {
   "cell_type": "code",
   "execution_count": 4,
   "metadata": {},
   "outputs": [
    {
     "name": "stdout",
     "output_type": "stream",
     "text": [
      "<class 'pandas.core.frame.DataFrame'>\n",
      "Int64Index: 1460 entries, 1 to 1460\n",
      "Columns: 319 entries, mssubclass__20 to SalePrice\n",
      "dtypes: float64(3), int64(316)\n",
      "memory usage: 3.6 MB\n"
     ]
    }
   ],
   "source": [
    "train.info()"
   ]
  },
  {
   "cell_type": "code",
   "execution_count": 5,
   "metadata": {},
   "outputs": [
    {
     "name": "stdout",
     "output_type": "stream",
     "text": [
      "<class 'pandas.core.frame.DataFrame'>\n",
      "Int64Index: 1459 entries, 1461 to 2919\n",
      "Columns: 318 entries, mssubclass__20 to CentralAirCond\n",
      "dtypes: float64(9), int64(309)\n",
      "memory usage: 3.6 MB\n"
     ]
    }
   ],
   "source": [
    "test.info()"
   ]
  },
  {
   "cell_type": "code",
   "execution_count": 7,
   "metadata": {
    "collapsed": true
   },
   "outputs": [],
   "source": [
    "X = train.drop('SalePrice', axis = 1)"
   ]
  },
  {
   "cell_type": "code",
   "execution_count": 8,
   "metadata": {},
   "outputs": [
    {
     "name": "stdout",
     "output_type": "stream",
     "text": [
      "<class 'pandas.core.frame.DataFrame'>\n",
      "Int64Index: 1460 entries, 1 to 1460\n",
      "Columns: 318 entries, mssubclass__20 to CentralAirCond\n",
      "dtypes: float64(3), int64(315)\n",
      "memory usage: 3.6 MB\n"
     ]
    }
   ],
   "source": [
    "X.info()"
   ]
  },
  {
   "cell_type": "code",
   "execution_count": 13,
   "metadata": {
    "collapsed": true
   },
   "outputs": [],
   "source": [
    "Y = train['SalePrice']"
   ]
  },
  {
   "cell_type": "code",
   "execution_count": 15,
   "metadata": {},
   "outputs": [
    {
     "data": {
      "text/plain": [
       "array([[208500],\n",
       "       [181500],\n",
       "       [223500],\n",
       "       ...,\n",
       "       [266500],\n",
       "       [142125],\n",
       "       [147500]], dtype=int64)"
      ]
     },
     "execution_count": 15,
     "metadata": {},
     "output_type": "execute_result"
    }
   ],
   "source": [
    "Y.values.reshape(-1,1)"
   ]
  },
  {
   "cell_type": "code",
   "execution_count": 16,
   "metadata": {},
   "outputs": [
    {
     "data": {
      "text/plain": [
       "array([208500, 181500, 223500, ..., 266500, 142125, 147500], dtype=int64)"
      ]
     },
     "execution_count": 16,
     "metadata": {},
     "output_type": "execute_result"
    }
   ],
   "source": [
    "Y.ravel()"
   ]
  },
  {
   "cell_type": "code",
   "execution_count": 17,
   "metadata": {},
   "outputs": [
    {
     "data": {
      "text/plain": [
       "array([[0.],\n",
       "       [0.],\n",
       "       [0.],\n",
       "       ...,\n",
       "       [0.],\n",
       "       [0.],\n",
       "       [0.]])"
      ]
     },
     "execution_count": 17,
     "metadata": {},
     "output_type": "execute_result"
    }
   ],
   "source": [
    "X.values.reshape(-1,1)"
   ]
  },
  {
   "cell_type": "code",
   "execution_count": 18,
   "metadata": {
    "collapsed": true
   },
   "outputs": [],
   "source": [
    "from sklearn.model_selection import train_test_split"
   ]
  },
  {
   "cell_type": "code",
   "execution_count": 19,
   "metadata": {
    "collapsed": true
   },
   "outputs": [],
   "source": [
    "X_train, X_test, Y_train, Y_test = train_test_split(X, Y, test_size = 0.3, random_state = 42)"
   ]
  },
  {
   "cell_type": "code",
   "execution_count": 104,
   "metadata": {
    "collapsed": true
   },
   "outputs": [],
   "source": [
    "dtree = DecisionTreeRegressor(max_depth = 10)"
   ]
  },
  {
   "cell_type": "code",
   "execution_count": 105,
   "metadata": {
    "collapsed": true
   },
   "outputs": [],
   "source": [
    "adabst = AdaBoostRegressor(base_estimator = dtree, n_estimators = 1000, learning_rate = 0.1, random_state = 42)"
   ]
  },
  {
   "cell_type": "code",
   "execution_count": 106,
   "metadata": {},
   "outputs": [
    {
     "data": {
      "text/plain": [
       "AdaBoostRegressor(base_estimator=DecisionTreeRegressor(criterion='mse', max_depth=10, max_features=None,\n",
       "           max_leaf_nodes=None, min_impurity_decrease=0.0,\n",
       "           min_impurity_split=None, min_samples_leaf=1,\n",
       "           min_samples_split=2, min_weight_fraction_leaf=0.0,\n",
       "           presort=False, random_state=None, splitter='best'),\n",
       "         learning_rate=0.1, loss='linear', n_estimators=1000,\n",
       "         random_state=42)"
      ]
     },
     "execution_count": 106,
     "metadata": {},
     "output_type": "execute_result"
    }
   ],
   "source": [
    "adabst.fit(X_train, Y_train)"
   ]
  },
  {
   "cell_type": "code",
   "execution_count": 107,
   "metadata": {},
   "outputs": [
    {
     "data": {
      "text/plain": [
       "array([3.51143594e-04, 2.59566160e-04, 4.53732131e-06, 2.16716853e-06,\n",
       "       1.18925156e-04, 1.47562061e-03, 9.28161416e-05, 4.02988907e-05,\n",
       "       6.19570082e-05, 1.86705019e-06, 2.51208811e-05, 3.74677394e-05,\n",
       "       3.20025466e-05, 1.10700477e-06, 1.94424571e-05, 0.00000000e+00,\n",
       "       3.87348644e-05, 6.71226104e-05, 1.12551132e-05, 5.85591601e-04,\n",
       "       1.12197409e-03, 3.41494471e-06, 1.85014109e-06, 1.39509096e-03,\n",
       "       4.61227734e-05, 8.84147577e-05, 4.93880229e-04, 2.17550068e-04,\n",
       "       2.11107243e-04, 1.49569497e-03, 2.13023928e-03, 5.39730720e-04,\n",
       "       7.83851670e-05, 1.02250596e-03, 2.93763127e-07, 4.42227714e-04,\n",
       "       1.31485585e-03, 1.01066662e-04, 5.46071429e-05, 1.92801621e-03,\n",
       "       1.24899487e-03, 1.74734478e-04, 3.20818778e-04, 1.08113214e-05,\n",
       "       1.02726798e-06, 5.20457754e-06, 5.12122474e-05, 1.77987374e-04,\n",
       "       2.91223357e-04, 4.93370375e-04, 1.34696781e-03, 4.24113733e-05,\n",
       "       4.56293717e-05, 2.53360909e-06, 6.34795485e-05, 2.40916121e-04,\n",
       "       9.30870901e-07, 6.63426449e-05, 3.22904059e-03, 3.34302230e-04,\n",
       "       4.90738089e-04, 5.70449810e-05, 7.20024476e-05, 2.31502640e-05,\n",
       "       3.76440763e-04, 5.45714288e-04, 6.83112089e-04, 5.38238144e-05,\n",
       "       1.16476465e-04, 1.42323884e-04, 1.58233106e-03, 3.43026214e-05,\n",
       "       2.84896686e-04, 2.87616165e-05, 1.11314653e-05, 5.85141982e-08,\n",
       "       2.66801352e-05, 6.25019705e-07, 2.17592386e-06, 1.66363625e-04,\n",
       "       0.00000000e+00, 2.34647149e-04, 3.04384292e-07, 3.45795365e-07,\n",
       "       0.00000000e+00, 3.29880905e-04, 2.77105075e-05, 2.66628411e-05,\n",
       "       1.70848673e-05, 3.21559338e-05, 1.04895724e-04, 5.63598464e-06,\n",
       "       1.93538835e-04, 4.11776031e-05, 2.79067301e-05, 4.59533457e-04,\n",
       "       3.48283743e-06, 4.42730173e-05, 7.48069256e-05, 5.21431309e-04,\n",
       "       1.08087834e-04, 5.39935884e-04, 7.68963465e-07, 4.00790122e-06,\n",
       "       6.99077382e-05, 2.97194404e-04, 0.00000000e+00, 7.99231477e-07,\n",
       "       3.95511349e-08, 4.22433691e-05, 7.98111561e-06, 9.11095791e-05,\n",
       "       5.66703942e-06, 1.65973655e-06, 2.40579466e-05, 5.16710247e-04,\n",
       "       5.66524798e-07, 1.25776267e-04, 4.36283739e-04, 0.00000000e+00,\n",
       "       9.23687280e-04, 2.60746643e-04, 8.42568011e-07, 2.12125199e-04,\n",
       "       3.55519396e-04, 4.33656485e-04, 1.09639171e-05, 7.31493808e-06,\n",
       "       2.11247910e-06, 2.27599750e-05, 2.16595954e-04, 1.54583441e-07,\n",
       "       2.72761537e-04, 6.29470164e-04, 1.94808399e-03, 8.91738973e-04,\n",
       "       2.53901245e-05, 2.05575061e-04, 5.70448404e-06, 5.54402746e-05,\n",
       "       6.06675476e-04, 2.18527754e-04, 1.32344248e-04, 5.52302110e-06,\n",
       "       2.84479772e-05, 4.70205457e-04, 3.85999989e-04, 5.61269506e-04,\n",
       "       2.52838346e-03, 7.94986244e-06, 1.85897731e-03, 7.55608178e-04,\n",
       "       1.10376978e-07, 1.18139471e-04, 8.38473380e-04, 2.19284685e-07,\n",
       "       5.62881959e-04, 3.09273929e-04, 1.74592261e-04, 8.39312130e-04,\n",
       "       5.14553082e-06, 3.53403108e-06, 8.21687357e-06, 7.58710383e-06,\n",
       "       1.11901931e-02, 8.89680042e-05, 2.70680175e-03, 7.38101943e-04,\n",
       "       1.12880260e-05, 2.02886103e-04, 1.25130142e-04, 9.23656247e-07,\n",
       "       2.94427105e-04, 3.75466606e-06, 3.48410404e-04, 2.59530716e-03,\n",
       "       2.18026367e-04, 1.55586561e-03, 7.86985231e-06, 3.37527476e-04,\n",
       "       8.97503989e-05, 9.42635361e-04, 1.00814517e-04, 1.29564044e-04,\n",
       "       6.52563185e-04, 7.28229505e-07, 7.39028259e-05, 7.90214231e-05,\n",
       "       2.36163605e-05, 3.05483143e-05, 6.61535952e-07, 5.23070843e-04,\n",
       "       2.47015298e-04, 1.93577845e-04, 7.35113374e-09, 4.45187563e-04,\n",
       "       4.00553264e-05, 2.06305686e-05, 3.37382817e-06, 0.00000000e+00,\n",
       "       1.70078962e-04, 1.24066882e-03, 3.32838389e-05, 2.17053691e-03,\n",
       "       1.33265117e-03, 3.62380410e-05, 2.70150824e-05, 6.23513772e-05,\n",
       "       4.97512830e-05, 1.68948655e-04, 3.70165297e-05, 6.40852954e-04,\n",
       "       6.13741828e-03, 5.40806903e-04, 1.11104711e-05, 1.00396614e-03,\n",
       "       2.86789534e-05, 1.25679459e-03, 7.74587104e-05, 2.06679269e-06,\n",
       "       1.59105182e-03, 2.17539274e-05, 3.05683620e-04, 4.98591943e-05,\n",
       "       1.20829080e-03, 3.61566963e-05, 9.99597437e-04, 7.61220921e-04,\n",
       "       1.35233919e-03, 5.25610205e-05, 1.83506916e-05, 2.92076168e-05,\n",
       "       1.04120057e-05, 4.79870492e-07, 4.77246904e-04, 6.94539089e-05,\n",
       "       5.99038531e-07, 2.30583166e-05, 9.67790252e-06, 8.18755350e-08,\n",
       "       2.81584259e-04, 3.20628327e-04, 3.54736561e-05, 1.76220523e-04,\n",
       "       4.77643247e-04, 2.77518716e-03, 1.05696780e-06, 4.72461397e-05,\n",
       "       5.94700206e-04, 8.71837713e-05, 1.52535739e-04, 1.23172551e-03,\n",
       "       4.11323861e-07, 1.75518675e-05, 2.28714958e-08, 7.55991705e-07,\n",
       "       1.63936953e-05, 4.22357103e-07, 1.07902841e-04, 1.60481347e-03,\n",
       "       3.29964736e-04, 2.45647462e-04, 2.84902900e-04, 2.94642835e-04,\n",
       "       3.37963557e-03, 1.86785023e-04, 9.53754460e-05, 8.61495073e-04,\n",
       "       1.07971240e-04, 2.34210330e-04, 5.31024691e-04, 8.06269603e-04,\n",
       "       4.83928836e-04, 6.40005768e-04, 2.22009653e-04, 2.45437028e-05,\n",
       "       1.61824673e-05, 4.73594730e-05, 6.09432315e-06, 9.57627699e-08,\n",
       "       1.62159919e-06, 1.32088923e-03, 8.28594108e-07, 8.86273847e-04,\n",
       "       1.21071949e-03, 1.44683697e-06, 2.48740032e-05, 3.88808424e-04,\n",
       "       6.37484043e-04, 7.43488685e-04, 1.31656282e-02, 2.13205036e-02,\n",
       "       5.35689683e-01, 3.78097905e-03, 5.84218548e-03, 9.18077120e-03,\n",
       "       5.12038495e-02, 1.04072295e-01, 1.24357055e-04, 3.97705608e-03,\n",
       "       8.98562917e-05, 1.06708759e-02, 1.00274512e-03, 2.25333435e-03,\n",
       "       6.11012033e-04, 1.41372289e-02, 7.40768101e-03, 1.17915677e-02,\n",
       "       2.31974313e-02, 1.27414560e-02, 7.67411565e-03, 1.01070304e-02,\n",
       "       5.20753082e-04, 5.94189479e-04, 1.03652586e-02, 2.03434459e-02,\n",
       "       3.75064959e-05, 0.00000000e+00])"
      ]
     },
     "execution_count": 107,
     "metadata": {},
     "output_type": "execute_result"
    }
   ],
   "source": [
    "adabst.feature_importances_"
   ]
  },
  {
   "cell_type": "code",
   "execution_count": 108,
   "metadata": {
    "collapsed": true
   },
   "outputs": [],
   "source": [
    "ames_columns = pd.DataFrame(X.columns)"
   ]
  },
  {
   "cell_type": "code",
   "execution_count": 109,
   "metadata": {},
   "outputs": [
    {
     "data": {
      "text/html": [
       "<div>\n",
       "<style>\n",
       "    .dataframe thead tr:only-child th {\n",
       "        text-align: right;\n",
       "    }\n",
       "\n",
       "    .dataframe thead th {\n",
       "        text-align: left;\n",
       "    }\n",
       "\n",
       "    .dataframe tbody tr th {\n",
       "        vertical-align: top;\n",
       "    }\n",
       "</style>\n",
       "<table border=\"1\" class=\"dataframe\">\n",
       "  <thead>\n",
       "    <tr style=\"text-align: right;\">\n",
       "      <th></th>\n",
       "      <th>0</th>\n",
       "    </tr>\n",
       "  </thead>\n",
       "  <tbody>\n",
       "    <tr>\n",
       "      <th>0</th>\n",
       "      <td>mssubclass__20</td>\n",
       "    </tr>\n",
       "    <tr>\n",
       "      <th>1</th>\n",
       "      <td>mssubclass__30</td>\n",
       "    </tr>\n",
       "    <tr>\n",
       "      <th>2</th>\n",
       "      <td>mssubclass__40</td>\n",
       "    </tr>\n",
       "    <tr>\n",
       "      <th>3</th>\n",
       "      <td>mssubclass__45</td>\n",
       "    </tr>\n",
       "    <tr>\n",
       "      <th>4</th>\n",
       "      <td>mssubclass__50</td>\n",
       "    </tr>\n",
       "  </tbody>\n",
       "</table>\n",
       "</div>"
      ],
      "text/plain": [
       "                0\n",
       "0  mssubclass__20\n",
       "1  mssubclass__30\n",
       "2  mssubclass__40\n",
       "3  mssubclass__45\n",
       "4  mssubclass__50"
      ]
     },
     "execution_count": 109,
     "metadata": {},
     "output_type": "execute_result"
    }
   ],
   "source": [
    "ames_columns.head()"
   ]
  },
  {
   "cell_type": "code",
   "execution_count": 110,
   "metadata": {
    "collapsed": true
   },
   "outputs": [],
   "source": [
    "ames_columns['Feature Importance'] = adabst.feature_importances_"
   ]
  },
  {
   "cell_type": "code",
   "execution_count": 111,
   "metadata": {
    "collapsed": true
   },
   "outputs": [],
   "source": [
    "ames_columns = ames_columns.sort_values(by = 'Feature Importance', ascending = False)"
   ]
  },
  {
   "cell_type": "code",
   "execution_count": 112,
   "metadata": {},
   "outputs": [
    {
     "data": {
      "text/html": [
       "<div>\n",
       "<style>\n",
       "    .dataframe thead tr:only-child th {\n",
       "        text-align: right;\n",
       "    }\n",
       "\n",
       "    .dataframe thead th {\n",
       "        text-align: left;\n",
       "    }\n",
       "\n",
       "    .dataframe tbody tr th {\n",
       "        vertical-align: top;\n",
       "    }\n",
       "</style>\n",
       "<table border=\"1\" class=\"dataframe\">\n",
       "  <thead>\n",
       "    <tr style=\"text-align: right;\">\n",
       "      <th></th>\n",
       "      <th>0</th>\n",
       "      <th>Feature Importance</th>\n",
       "    </tr>\n",
       "  </thead>\n",
       "  <tbody>\n",
       "    <tr>\n",
       "      <th>292</th>\n",
       "      <td>OverallQual</td>\n",
       "      <td>0.535690</td>\n",
       "    </tr>\n",
       "    <tr>\n",
       "      <th>297</th>\n",
       "      <td>GrLivArea</td>\n",
       "      <td>0.104072</td>\n",
       "    </tr>\n",
       "    <tr>\n",
       "      <th>296</th>\n",
       "      <td>TotalBsmtSF</td>\n",
       "      <td>0.051204</td>\n",
       "    </tr>\n",
       "    <tr>\n",
       "      <th>308</th>\n",
       "      <td>GarageCars</td>\n",
       "      <td>0.023197</td>\n",
       "    </tr>\n",
       "    <tr>\n",
       "      <th>291</th>\n",
       "      <td>LotArea</td>\n",
       "      <td>0.021321</td>\n",
       "    </tr>\n",
       "    <tr>\n",
       "      <th>315</th>\n",
       "      <td>PoolArea</td>\n",
       "      <td>0.020343</td>\n",
       "    </tr>\n",
       "    <tr>\n",
       "      <th>305</th>\n",
       "      <td>TotRmsAbvGrd</td>\n",
       "      <td>0.014137</td>\n",
       "    </tr>\n",
       "    <tr>\n",
       "      <th>290</th>\n",
       "      <td>LotFrontage</td>\n",
       "      <td>0.013166</td>\n",
       "    </tr>\n",
       "    <tr>\n",
       "      <th>309</th>\n",
       "      <td>GarageArea</td>\n",
       "      <td>0.012741</td>\n",
       "    </tr>\n",
       "    <tr>\n",
       "      <th>307</th>\n",
       "      <td>HomeAge</td>\n",
       "      <td>0.011792</td>\n",
       "    </tr>\n",
       "    <tr>\n",
       "      <th>164</th>\n",
       "      <td>bsmtqual__Ex</td>\n",
       "      <td>0.011190</td>\n",
       "    </tr>\n",
       "    <tr>\n",
       "      <th>301</th>\n",
       "      <td>FullBath</td>\n",
       "      <td>0.010671</td>\n",
       "    </tr>\n",
       "    <tr>\n",
       "      <th>314</th>\n",
       "      <td>ScreenPorch</td>\n",
       "      <td>0.010365</td>\n",
       "    </tr>\n",
       "    <tr>\n",
       "      <th>311</th>\n",
       "      <td>OpenPorchSF</td>\n",
       "      <td>0.010107</td>\n",
       "    </tr>\n",
       "    <tr>\n",
       "      <th>295</th>\n",
       "      <td>BsmtUnfSF</td>\n",
       "      <td>0.009181</td>\n",
       "    </tr>\n",
       "  </tbody>\n",
       "</table>\n",
       "</div>"
      ],
      "text/plain": [
       "                0  Feature Importance\n",
       "292   OverallQual            0.535690\n",
       "297     GrLivArea            0.104072\n",
       "296   TotalBsmtSF            0.051204\n",
       "308    GarageCars            0.023197\n",
       "291       LotArea            0.021321\n",
       "315      PoolArea            0.020343\n",
       "305  TotRmsAbvGrd            0.014137\n",
       "290   LotFrontage            0.013166\n",
       "309    GarageArea            0.012741\n",
       "307       HomeAge            0.011792\n",
       "164  bsmtqual__Ex            0.011190\n",
       "301      FullBath            0.010671\n",
       "314   ScreenPorch            0.010365\n",
       "311   OpenPorchSF            0.010107\n",
       "295     BsmtUnfSF            0.009181"
      ]
     },
     "execution_count": 112,
     "metadata": {},
     "output_type": "execute_result"
    }
   ],
   "source": [
    "ames_columns.head(15)"
   ]
  },
  {
   "cell_type": "code",
   "execution_count": 113,
   "metadata": {
    "collapsed": true
   },
   "outputs": [],
   "source": [
    "Y_pred = adabst.predict(X_test)"
   ]
  },
  {
   "cell_type": "code",
   "execution_count": 114,
   "metadata": {
    "collapsed": true
   },
   "outputs": [],
   "source": [
    "from sklearn.metrics import r2_score\n",
    "from sklearn.metrics import mean_squared_error"
   ]
  },
  {
   "cell_type": "code",
   "execution_count": 115,
   "metadata": {},
   "outputs": [
    {
     "data": {
      "text/plain": [
       "0.894038493417428"
      ]
     },
     "execution_count": 115,
     "metadata": {},
     "output_type": "execute_result"
    }
   ],
   "source": [
    "r2_score(Y_test, Y_pred)"
   ]
  },
  {
   "cell_type": "code",
   "execution_count": 88,
   "metadata": {
    "collapsed": true
   },
   "outputs": [],
   "source": [
    "adabst2 = AdaBoostRegressor(base_estimator = dtree, n_estimators = 5000, learning_rate = 0.05, random_state = 42)"
   ]
  },
  {
   "cell_type": "code",
   "execution_count": 89,
   "metadata": {},
   "outputs": [
    {
     "data": {
      "text/plain": [
       "AdaBoostRegressor(base_estimator=DecisionTreeRegressor(criterion='mse', max_depth=3, max_features=None,\n",
       "           max_leaf_nodes=None, min_impurity_decrease=0.0,\n",
       "           min_impurity_split=None, min_samples_leaf=1,\n",
       "           min_samples_split=2, min_weight_fraction_leaf=0.0,\n",
       "           presort=False, random_state=None, splitter='best'),\n",
       "         learning_rate=0.05, loss='linear', n_estimators=5000,\n",
       "         random_state=42)"
      ]
     },
     "execution_count": 89,
     "metadata": {},
     "output_type": "execute_result"
    }
   ],
   "source": [
    "adabst2.fit(X_train, Y_train)"
   ]
  },
  {
   "cell_type": "code",
   "execution_count": 90,
   "metadata": {},
   "outputs": [
    {
     "data": {
      "text/plain": [
       "array([6.98244305e-05, 0.00000000e+00, 0.00000000e+00, 0.00000000e+00,\n",
       "       0.00000000e+00, 1.04586960e-03, 4.40526562e-10, 3.84910738e-05,\n",
       "       8.80086148e-06, 0.00000000e+00, 0.00000000e+00, 0.00000000e+00,\n",
       "       0.00000000e+00, 0.00000000e+00, 0.00000000e+00, 0.00000000e+00,\n",
       "       0.00000000e+00, 0.00000000e+00, 0.00000000e+00, 3.71383914e-07,\n",
       "       1.70932901e-05, 0.00000000e+00, 0.00000000e+00, 0.00000000e+00,\n",
       "       1.51294130e-07, 0.00000000e+00, 6.25162298e-06, 4.10586824e-04,\n",
       "       5.34980850e-05, 7.44108436e-04, 1.82276018e-02, 5.67325127e-03,\n",
       "       7.37931759e-06, 1.41030052e-04, 0.00000000e+00, 1.86569083e-04,\n",
       "       6.70396244e-03, 0.00000000e+00, 0.00000000e+00, 1.57286836e-03,\n",
       "       2.83889062e-04, 1.32020283e-06, 0.00000000e+00, 0.00000000e+00,\n",
       "       0.00000000e+00, 0.00000000e+00, 0.00000000e+00, 0.00000000e+00,\n",
       "       0.00000000e+00, 1.05916798e-04, 1.18240816e-02, 0.00000000e+00,\n",
       "       0.00000000e+00, 0.00000000e+00, 0.00000000e+00, 4.84464759e-05,\n",
       "       0.00000000e+00, 3.10946948e-07, 3.18673421e-02, 6.61913551e-04,\n",
       "       2.16937480e-05, 0.00000000e+00, 0.00000000e+00, 0.00000000e+00,\n",
       "       6.93543800e-04, 4.13799779e-04, 3.75703823e-05, 0.00000000e+00,\n",
       "       0.00000000e+00, 5.18622849e-07, 1.70470146e-02, 0.00000000e+00,\n",
       "       5.28740770e-04, 0.00000000e+00, 3.88998072e-07, 0.00000000e+00,\n",
       "       0.00000000e+00, 0.00000000e+00, 0.00000000e+00, 2.01359020e-04,\n",
       "       0.00000000e+00, 2.89067069e-04, 0.00000000e+00, 0.00000000e+00,\n",
       "       0.00000000e+00, 3.47065349e-05, 0.00000000e+00, 0.00000000e+00,\n",
       "       0.00000000e+00, 0.00000000e+00, 0.00000000e+00, 0.00000000e+00,\n",
       "       9.64119463e-05, 5.74805602e-05, 0.00000000e+00, 3.40865734e-04,\n",
       "       0.00000000e+00, 0.00000000e+00, 0.00000000e+00, 3.41355237e-04,\n",
       "       0.00000000e+00, 3.41531997e-03, 0.00000000e+00, 0.00000000e+00,\n",
       "       5.58109535e-07, 3.11416620e-04, 0.00000000e+00, 0.00000000e+00,\n",
       "       0.00000000e+00, 0.00000000e+00, 0.00000000e+00, 2.57677065e-04,\n",
       "       0.00000000e+00, 0.00000000e+00, 0.00000000e+00, 2.79047509e-03,\n",
       "       0.00000000e+00, 6.97086967e-07, 2.32977691e-05, 0.00000000e+00,\n",
       "       7.44267374e-06, 7.92210208e-06, 0.00000000e+00, 9.23827252e-07,\n",
       "       2.40521691e-05, 7.22100036e-05, 0.00000000e+00, 0.00000000e+00,\n",
       "       0.00000000e+00, 0.00000000e+00, 8.73595656e-04, 0.00000000e+00,\n",
       "       1.84069047e-03, 2.71265284e-05, 8.05270111e-03, 0.00000000e+00,\n",
       "       0.00000000e+00, 3.26440844e-05, 0.00000000e+00, 5.54398286e-07,\n",
       "       2.79533393e-04, 7.02681298e-05, 2.93423991e-04, 0.00000000e+00,\n",
       "       0.00000000e+00, 2.83332484e-04, 4.03318139e-05, 3.49990349e-04,\n",
       "       1.35031338e-03, 0.00000000e+00, 3.74177000e-04, 5.92241347e-04,\n",
       "       0.00000000e+00, 0.00000000e+00, 5.12078492e-05, 0.00000000e+00,\n",
       "       4.60045010e-05, 0.00000000e+00, 1.92508375e-07, 5.99192132e-03,\n",
       "       0.00000000e+00, 0.00000000e+00, 0.00000000e+00, 0.00000000e+00,\n",
       "       4.56707993e-04, 0.00000000e+00, 8.37199135e-04, 1.46022324e-03,\n",
       "       0.00000000e+00, 0.00000000e+00, 8.13071581e-07, 0.00000000e+00,\n",
       "       3.61758722e-05, 0.00000000e+00, 6.00755549e-05, 3.50914433e-03,\n",
       "       3.35721420e-04, 1.14311978e-03, 0.00000000e+00, 1.79831641e-04,\n",
       "       2.19317694e-07, 3.67932495e-03, 0.00000000e+00, 9.39708305e-07,\n",
       "       3.49525295e-04, 0.00000000e+00, 0.00000000e+00, 0.00000000e+00,\n",
       "       0.00000000e+00, 0.00000000e+00, 0.00000000e+00, 4.58989008e-03,\n",
       "       0.00000000e+00, 1.18681441e-05, 0.00000000e+00, 8.45496613e-06,\n",
       "       0.00000000e+00, 0.00000000e+00, 0.00000000e+00, 0.00000000e+00,\n",
       "       0.00000000e+00, 4.63478169e-03, 0.00000000e+00, 1.89207228e-03,\n",
       "       1.17601861e-03, 2.06031985e-06, 0.00000000e+00, 0.00000000e+00,\n",
       "       0.00000000e+00, 3.31186795e-04, 0.00000000e+00, 7.11359698e-04,\n",
       "       4.27175614e-03, 4.96196295e-07, 0.00000000e+00, 1.67302932e-03,\n",
       "       0.00000000e+00, 3.38352518e-04, 0.00000000e+00, 0.00000000e+00,\n",
       "       6.87692965e-04, 0.00000000e+00, 6.23495352e-05, 0.00000000e+00,\n",
       "       0.00000000e+00, 0.00000000e+00, 2.12494015e-04, 9.78121923e-04,\n",
       "       6.75097468e-05, 6.53398047e-06, 1.32088272e-04, 4.49094268e-07,\n",
       "       0.00000000e+00, 0.00000000e+00, 2.14375325e-04, 3.10008633e-05,\n",
       "       0.00000000e+00, 0.00000000e+00, 0.00000000e+00, 0.00000000e+00,\n",
       "       1.04595962e-04, 0.00000000e+00, 0.00000000e+00, 0.00000000e+00,\n",
       "       3.52354713e-03, 6.53306636e-03, 0.00000000e+00, 9.61243230e-07,\n",
       "       2.13230571e-05, 1.99810561e-05, 0.00000000e+00, 4.67422340e-03,\n",
       "       0.00000000e+00, 3.64889358e-08, 0.00000000e+00, 0.00000000e+00,\n",
       "       5.58196188e-07, 4.05786795e-07, 4.86327405e-05, 4.08424699e-03,\n",
       "       0.00000000e+00, 9.08828594e-05, 4.51450321e-05, 2.00100725e-04,\n",
       "       1.18141190e-02, 0.00000000e+00, 0.00000000e+00, 7.79754658e-05,\n",
       "       0.00000000e+00, 6.84157004e-07, 6.55748784e-05, 2.51557631e-03,\n",
       "       2.22349101e-05, 1.11818303e-03, 6.44475709e-06, 0.00000000e+00,\n",
       "       0.00000000e+00, 0.00000000e+00, 0.00000000e+00, 0.00000000e+00,\n",
       "       0.00000000e+00, 1.48319403e-03, 0.00000000e+00, 4.44993800e-05,\n",
       "       2.64225648e-03, 0.00000000e+00, 2.64167099e-04, 0.00000000e+00,\n",
       "       8.93671699e-05, 1.46044809e-03, 2.19130554e-02, 2.39261818e-02,\n",
       "       2.38972952e-01, 1.86894389e-04, 7.85806220e-04, 3.76019919e-03,\n",
       "       6.11888601e-02, 1.52649500e-01, 1.07906357e-04, 1.57045303e-02,\n",
       "       0.00000000e+00, 3.56024865e-02, 2.41875178e-03, 1.42664732e-02,\n",
       "       2.62830066e-05, 2.66213117e-02, 1.54765353e-02, 2.65923996e-02,\n",
       "       7.13909979e-02, 3.54164323e-03, 1.51013291e-02, 1.13421461e-02,\n",
       "       4.11640266e-05, 0.00000000e+00, 3.80928744e-02, 1.79864938e-02,\n",
       "       1.38995933e-07, 0.00000000e+00])"
      ]
     },
     "execution_count": 90,
     "metadata": {},
     "output_type": "execute_result"
    }
   ],
   "source": [
    "adabst2.feature_importances_"
   ]
  },
  {
   "cell_type": "code",
   "execution_count": 91,
   "metadata": {
    "collapsed": true
   },
   "outputs": [],
   "source": [
    "pred2 = adabst2.predict(X_test)"
   ]
  },
  {
   "cell_type": "code",
   "execution_count": 92,
   "metadata": {},
   "outputs": [
    {
     "data": {
      "text/plain": [
       "0.8520682083103145"
      ]
     },
     "execution_count": 92,
     "metadata": {},
     "output_type": "execute_result"
    }
   ],
   "source": [
    "r2_score(Y_test, pred2)"
   ]
  },
  {
   "cell_type": "code",
   "execution_count": 46,
   "metadata": {
    "collapsed": true
   },
   "outputs": [],
   "source": [
    "X2 = X.drop(['exterior2nd__AsbShng', 'exterior2nd__AsphShn', 'exterior2nd__Brk Cmn', 'exterior2nd__BrkFace', 'exterior2nd__CBlock', 'exterior2nd__CmentBd', 'exterior2nd__HdBoard', 'exterior2nd__ImStucc', 'exterior2nd__MetalSd', 'exterior2nd__Other', 'exterior2nd__Plywood', 'exterior2nd__Stone', 'exterior2nd__Stucco', 'exterior2nd__VinylSd', 'exterior2nd__Wd Sdng', 'exterior2nd__Wd Shng'], axis = 1)"
   ]
  },
  {
   "cell_type": "code",
   "execution_count": 47,
   "metadata": {},
   "outputs": [
    {
     "name": "stdout",
     "output_type": "stream",
     "text": [
      "<class 'pandas.core.frame.DataFrame'>\n",
      "Int64Index: 1460 entries, 1 to 1460\n",
      "Columns: 302 entries, mssubclass__20 to CentralAirCond\n",
      "dtypes: float64(3), int64(299)\n",
      "memory usage: 3.4 MB\n"
     ]
    }
   ],
   "source": [
    "X2.info()"
   ]
  },
  {
   "cell_type": "code",
   "execution_count": 48,
   "metadata": {
    "collapsed": true
   },
   "outputs": [],
   "source": [
    "X2 = X2.drop(['poolqc__0', 'poolqc__Ex', 'poolqc__Gd', 'PoolArea'], axis = 1)"
   ]
  },
  {
   "cell_type": "code",
   "execution_count": 49,
   "metadata": {},
   "outputs": [
    {
     "name": "stdout",
     "output_type": "stream",
     "text": [
      "<class 'pandas.core.frame.DataFrame'>\n",
      "Int64Index: 1460 entries, 1 to 1460\n",
      "Columns: 298 entries, mssubclass__20 to CentralAirCond\n",
      "dtypes: float64(3), int64(295)\n",
      "memory usage: 3.4 MB\n"
     ]
    }
   ],
   "source": [
    "X2.info()"
   ]
  },
  {
   "cell_type": "code",
   "execution_count": 50,
   "metadata": {
    "collapsed": true
   },
   "outputs": [],
   "source": [
    "X2_train, X2_test, Y2_train, Y2_test = train_test_split(X2, Y, test_size = 0.3, random_state = 42)"
   ]
  },
  {
   "cell_type": "code",
   "execution_count": 51,
   "metadata": {
    "collapsed": true
   },
   "outputs": [],
   "source": [
    "adabst3 = AdaBoostRegressor(base_estimator = dtree, n_estimators = 5000, learning_rate = 0.05, random_state = 42)"
   ]
  },
  {
   "cell_type": "code",
   "execution_count": 52,
   "metadata": {},
   "outputs": [
    {
     "data": {
      "text/plain": [
       "AdaBoostRegressor(base_estimator=DecisionTreeRegressor(criterion='mse', max_depth=1, max_features=None,\n",
       "           max_leaf_nodes=None, min_impurity_decrease=0.0,\n",
       "           min_impurity_split=None, min_samples_leaf=1,\n",
       "           min_samples_split=2, min_weight_fraction_leaf=0.0,\n",
       "           presort=False, random_state=None, splitter='best'),\n",
       "         learning_rate=0.05, loss='linear', n_estimators=5000,\n",
       "         random_state=42)"
      ]
     },
     "execution_count": 52,
     "metadata": {},
     "output_type": "execute_result"
    }
   ],
   "source": [
    "adabst3.fit(X2_train,Y2_train)"
   ]
  },
  {
   "cell_type": "code",
   "execution_count": 53,
   "metadata": {
    "collapsed": true
   },
   "outputs": [],
   "source": [
    "pred3 = adabst3.predict(X2_test)"
   ]
  },
  {
   "cell_type": "code",
   "execution_count": 54,
   "metadata": {},
   "outputs": [
    {
     "data": {
      "text/plain": [
       "0.2574574322656352"
      ]
     },
     "execution_count": 54,
     "metadata": {},
     "output_type": "execute_result"
    }
   ],
   "source": [
    "r2_score(Y2_test, pred3)"
   ]
  },
  {
   "cell_type": "markdown",
   "metadata": {},
   "source": [
    "## Gradient Boosting\n",
    "*turned into Kaggle*"
   ]
  },
  {
   "cell_type": "code",
   "execution_count": 58,
   "metadata": {
    "collapsed": true
   },
   "outputs": [],
   "source": [
    "from sklearn.ensemble import GradientBoostingRegressor"
   ]
  },
  {
   "cell_type": "code",
   "execution_count": 59,
   "metadata": {
    "collapsed": true
   },
   "outputs": [],
   "source": [
    "gbc = GradientBoostingRegressor(loss='ls', learning_rate=0.05, n_estimators=5000, min_samples_split=2, min_samples_leaf=1, max_depth=3, random_state=42)"
   ]
  },
  {
   "cell_type": "code",
   "execution_count": 60,
   "metadata": {},
   "outputs": [
    {
     "data": {
      "text/plain": [
       "GradientBoostingRegressor(alpha=0.9, criterion='friedman_mse', init=None,\n",
       "             learning_rate=0.05, loss='ls', max_depth=3, max_features=None,\n",
       "             max_leaf_nodes=None, min_impurity_decrease=0.0,\n",
       "             min_impurity_split=None, min_samples_leaf=1,\n",
       "             min_samples_split=2, min_weight_fraction_leaf=0.0,\n",
       "             n_estimators=5000, presort='auto', random_state=42,\n",
       "             subsample=1.0, verbose=0, warm_start=False)"
      ]
     },
     "execution_count": 60,
     "metadata": {},
     "output_type": "execute_result"
    }
   ],
   "source": [
    "gbc.fit(X_train,Y_train)"
   ]
  },
  {
   "cell_type": "code",
   "execution_count": 61,
   "metadata": {},
   "outputs": [
    {
     "data": {
      "text/plain": [
       "array([1.74254812e-03, 3.15529003e-03, 2.25980157e-06, 6.65167688e-04,\n",
       "       8.76427378e-04, 4.04686280e-03, 1.00868930e-03, 2.88286344e-06,\n",
       "       1.50541404e-03, 4.15021529e-04, 1.09070935e-03, 5.46288773e-04,\n",
       "       4.54777971e-04, 9.79892901e-05, 4.63261953e-05, 0.00000000e+00,\n",
       "       1.79616514e-03, 1.91620992e-03, 1.73258135e-03, 5.92566292e-04,\n",
       "       8.82809797e-04, 4.83900501e-04, 4.29221659e-04, 3.58583049e-04,\n",
       "       2.19913279e-03, 8.80414234e-04, 2.03525866e-03, 1.76412082e-03,\n",
       "       6.83376374e-04, 1.69741175e-03, 1.05183096e-03, 2.11118833e-03,\n",
       "       7.18546885e-04, 9.98884171e-04, 2.59056602e-04, 2.69240320e-03,\n",
       "       1.45382100e-03, 1.74165601e-03, 4.06923635e-03, 2.23842136e-03,\n",
       "       9.17606128e-04, 5.58589956e-04, 0.00000000e+00, 1.73220626e-03,\n",
       "       1.87447719e-05, 2.52562825e-04, 3.00637149e-03, 1.51599002e-03,\n",
       "       9.04650334e-03, 1.78001648e-03, 4.54553303e-03, 5.95900555e-03,\n",
       "       1.42817362e-03, 6.59314738e-04, 3.12930251e-03, 2.87925976e-03,\n",
       "       1.24599506e-03, 4.16016490e-03, 2.65814610e-03, 4.61639753e-03,\n",
       "       1.26846735e-03, 4.28828498e-04, 3.80874683e-03, 3.32862549e-03,\n",
       "       2.58271916e-03, 3.72451669e-03, 2.75660239e-03, 2.11939817e-03,\n",
       "       1.55326810e-03, 1.19007104e-03, 1.81571542e-03, 1.20668847e-03,\n",
       "       1.40994210e-03, 1.12655818e-03, 4.44639857e-04, 0.00000000e+00,\n",
       "       3.85555226e-04, 7.78205847e-05, 1.40013357e-03, 4.19966122e-04,\n",
       "       0.00000000e+00, 1.89922355e-04, 0.00000000e+00, 1.45324771e-04,\n",
       "       0.00000000e+00, 4.26884084e-04, 2.05123751e-04, 1.51587026e-03,\n",
       "       8.09097540e-04, 1.31338876e-03, 1.99385085e-03, 4.46865154e-05,\n",
       "       2.36219272e-03, 4.21710662e-06, 5.33974456e-04, 7.53052655e-04,\n",
       "       2.87213781e-04, 2.63846914e-03, 0.00000000e+00, 1.14256630e-03,\n",
       "       5.57080182e-04, 3.14635386e-03, 3.33113196e-04, 2.53575797e-06,\n",
       "       3.02230811e-06, 3.83476951e-04, 0.00000000e+00, 0.00000000e+00,\n",
       "       0.00000000e+00, 0.00000000e+00, 3.25404972e-04, 7.29374013e-06,\n",
       "       1.30037059e-03, 7.82501076e-04, 5.01471848e-04, 2.25442442e-03,\n",
       "       0.00000000e+00, 2.58380630e-04, 1.98993835e-03, 0.00000000e+00,\n",
       "       5.15261216e-03, 1.47335266e-03, 5.65232922e-07, 2.82879800e-04,\n",
       "       2.66879011e-03, 1.93691299e-03, 1.06947931e-03, 1.26745526e-03,\n",
       "       1.55258098e-04, 9.58302292e-05, 2.29814807e-04, 0.00000000e+00,\n",
       "       1.90876508e-04, 3.34251529e-03, 5.02049726e-04, 3.23132159e-03,\n",
       "       1.72218256e-04, 8.00836041e-04, 7.54233873e-04, 2.11016102e-04,\n",
       "       2.72862149e-03, 2.06392880e-03, 8.88514248e-04, 8.98185043e-04,\n",
       "       8.94868923e-04, 2.29893630e-03, 1.72748846e-03, 1.40464034e-03,\n",
       "       4.32840897e-04, 4.56861613e-04, 1.94700698e-03, 9.36424165e-04,\n",
       "       4.30977309e-04, 1.74963157e-03, 2.67537058e-03, 0.00000000e+00,\n",
       "       1.23147715e-03, 1.09424612e-03, 1.96184087e-03, 9.60162716e-04,\n",
       "       1.72528395e-03, 2.50913687e-05, 1.64387409e-04, 1.65733182e-05,\n",
       "       1.29847957e-03, 1.22802074e-03, 1.87587037e-03, 8.68085609e-04,\n",
       "       5.57460900e-05, 9.57994407e-04, 1.19668355e-03, 0.00000000e+00,\n",
       "       1.33232190e-03, 1.22073911e-04, 2.10518124e-03, 4.47540812e-03,\n",
       "       2.07931825e-03, 4.46043089e-03, 3.33865217e-06, 3.43113512e-03,\n",
       "       3.87500449e-03, 3.61423984e-03, 1.01066741e-03, 1.86697339e-03,\n",
       "       1.43126279e-03, 3.47481310e-05, 9.76661419e-04, 2.56604312e-05,\n",
       "       7.41780313e-04, 5.35379626e-04, 0.00000000e+00, 1.33720850e-03,\n",
       "       2.13193946e-04, 1.37933133e-03, 2.25509918e-04, 1.96762077e-03,\n",
       "       1.55385953e-03, 1.39286820e-03, 4.96276198e-04, 0.00000000e+00,\n",
       "       1.33394068e-03, 3.02130566e-03, 3.15434737e-03, 1.61938098e-03,\n",
       "       1.47429369e-03, 1.07013182e-03, 1.51889237e-03, 1.35031603e-03,\n",
       "       1.22646938e-03, 2.93059083e-03, 7.70228000e-04, 1.92120990e-03,\n",
       "       3.04670762e-03, 1.30349948e-03, 2.60232820e-03, 3.15935646e-03,\n",
       "       9.05522551e-04, 3.27538436e-03, 3.97370736e-04, 8.42176963e-05,\n",
       "       2.38353504e-03, 1.11965671e-03, 1.66897358e-03, 4.38919836e-04,\n",
       "       1.43727668e-03, 3.59109335e-04, 2.92185900e-03, 2.13501959e-03,\n",
       "       8.49206430e-04, 1.62135028e-04, 7.49366355e-05, 1.70448963e-03,\n",
       "       6.28304466e-04, 0.00000000e+00, 2.95565304e-04, 2.59474968e-04,\n",
       "       1.90670558e-04, 3.17284276e-04, 4.73279355e-04, 9.23795020e-05,\n",
       "       5.80273815e-04, 1.07219328e-03, 4.90720611e-04, 1.27278695e-03,\n",
       "       1.10498018e-06, 6.57483571e-06, 4.92367862e-06, 1.21150669e-06,\n",
       "       1.90559251e-03, 8.23748539e-04, 1.22941993e-03, 2.71209883e-03,\n",
       "       4.16771066e-04, 3.22561672e-04, 0.00000000e+00, 0.00000000e+00,\n",
       "       3.42142181e-04, 0.00000000e+00, 1.79700612e-03, 6.41528732e-03,\n",
       "       3.55031769e-03, 3.90383835e-03, 3.48416700e-03, 7.61363990e-03,\n",
       "       4.97607291e-03, 2.30680569e-03, 4.75761739e-03, 6.60866720e-03,\n",
       "       3.43211135e-03, 5.45656074e-03, 4.60735595e-03, 6.46577979e-03,\n",
       "       2.30352698e-03, 5.48314591e-03, 2.18418880e-03, 2.16248837e-03,\n",
       "       2.23095279e-04, 1.47681867e-04, 3.99793526e-04, 1.37135851e-04,\n",
       "       6.77148383e-04, 1.96334022e-03, 3.16541366e-04, 1.62510305e-03,\n",
       "       3.80735268e-03, 1.09713169e-03, 1.11540828e-03, 5.41218201e-03,\n",
       "       1.50823818e-03, 5.98787951e-04, 3.13269813e-02, 6.74432619e-02,\n",
       "       1.80175709e-02, 1.12192462e-02, 3.28244439e-02, 6.43184136e-02,\n",
       "       5.33868431e-02, 7.23288074e-02, 2.56799621e-03, 5.01350631e-03,\n",
       "       1.05998444e-03, 2.04664950e-03, 2.92763416e-03, 7.03604703e-03,\n",
       "       6.34527433e-04, 1.18428391e-02, 2.60511110e-02, 3.24904050e-02,\n",
       "       2.98173565e-03, 4.50234525e-02, 3.31309659e-02, 3.47141219e-02,\n",
       "       5.88049617e-03, 2.35994505e-03, 1.10799544e-02, 7.13730180e-04,\n",
       "       1.94960305e-03, 0.00000000e+00])"
      ]
     },
     "execution_count": 61,
     "metadata": {},
     "output_type": "execute_result"
    }
   ],
   "source": [
    "gbc.feature_importances_"
   ]
  },
  {
   "cell_type": "code",
   "execution_count": 63,
   "metadata": {
    "collapsed": true
   },
   "outputs": [],
   "source": [
    "gbc_pred = gbc.predict(X_test)"
   ]
  },
  {
   "cell_type": "code",
   "execution_count": 64,
   "metadata": {},
   "outputs": [
    {
     "data": {
      "text/plain": [
       "0.9117203100975103"
      ]
     },
     "execution_count": 64,
     "metadata": {},
     "output_type": "execute_result"
    }
   ],
   "source": [
    "r2_score(Y_test, gbc_pred)"
   ]
  },
  {
   "cell_type": "code",
   "execution_count": 65,
   "metadata": {
    "collapsed": true
   },
   "outputs": [],
   "source": [
    "df_gbc = pd.DataFrame(test.index)"
   ]
  },
  {
   "cell_type": "code",
   "execution_count": 66,
   "metadata": {
    "collapsed": true
   },
   "outputs": [],
   "source": [
    "df_gbc['SalePrice'] = gbc.predict(test)"
   ]
  },
  {
   "cell_type": "code",
   "execution_count": 67,
   "metadata": {},
   "outputs": [
    {
     "data": {
      "text/html": [
       "<div>\n",
       "<style>\n",
       "    .dataframe thead tr:only-child th {\n",
       "        text-align: right;\n",
       "    }\n",
       "\n",
       "    .dataframe thead th {\n",
       "        text-align: left;\n",
       "    }\n",
       "\n",
       "    .dataframe tbody tr th {\n",
       "        vertical-align: top;\n",
       "    }\n",
       "</style>\n",
       "<table border=\"1\" class=\"dataframe\">\n",
       "  <thead>\n",
       "    <tr style=\"text-align: right;\">\n",
       "      <th></th>\n",
       "      <th>Id</th>\n",
       "      <th>SalePrice</th>\n",
       "    </tr>\n",
       "  </thead>\n",
       "  <tbody>\n",
       "    <tr>\n",
       "      <th>0</th>\n",
       "      <td>1461</td>\n",
       "      <td>124009.638232</td>\n",
       "    </tr>\n",
       "    <tr>\n",
       "      <th>1</th>\n",
       "      <td>1462</td>\n",
       "      <td>168202.149924</td>\n",
       "    </tr>\n",
       "    <tr>\n",
       "      <th>2</th>\n",
       "      <td>1463</td>\n",
       "      <td>186034.118819</td>\n",
       "    </tr>\n",
       "    <tr>\n",
       "      <th>3</th>\n",
       "      <td>1464</td>\n",
       "      <td>194560.855146</td>\n",
       "    </tr>\n",
       "    <tr>\n",
       "      <th>4</th>\n",
       "      <td>1465</td>\n",
       "      <td>189290.256250</td>\n",
       "    </tr>\n",
       "  </tbody>\n",
       "</table>\n",
       "</div>"
      ],
      "text/plain": [
       "     Id      SalePrice\n",
       "0  1461  124009.638232\n",
       "1  1462  168202.149924\n",
       "2  1463  186034.118819\n",
       "3  1464  194560.855146\n",
       "4  1465  189290.256250"
      ]
     },
     "execution_count": 67,
     "metadata": {},
     "output_type": "execute_result"
    }
   ],
   "source": [
    "df_gbc.head()"
   ]
  },
  {
   "cell_type": "code",
   "execution_count": 68,
   "metadata": {
    "collapsed": true
   },
   "outputs": [],
   "source": [
    "#df_gbc.to_csv('data/gbc_1.csv')"
   ]
  },
  {
   "cell_type": "code",
   "execution_count": 71,
   "metadata": {
    "collapsed": true
   },
   "outputs": [],
   "source": [
    "df_gb_features = pd.DataFrame(X.columns)"
   ]
  },
  {
   "cell_type": "code",
   "execution_count": 72,
   "metadata": {
    "collapsed": true
   },
   "outputs": [],
   "source": [
    "df_gb_features['Feature Importance'] = gbc.feature_importances_"
   ]
  },
  {
   "cell_type": "code",
   "execution_count": 74,
   "metadata": {},
   "outputs": [
    {
     "data": {
      "text/html": [
       "<div>\n",
       "<style>\n",
       "    .dataframe thead tr:only-child th {\n",
       "        text-align: right;\n",
       "    }\n",
       "\n",
       "    .dataframe thead th {\n",
       "        text-align: left;\n",
       "    }\n",
       "\n",
       "    .dataframe tbody tr th {\n",
       "        vertical-align: top;\n",
       "    }\n",
       "</style>\n",
       "<table border=\"1\" class=\"dataframe\">\n",
       "  <thead>\n",
       "    <tr style=\"text-align: right;\">\n",
       "      <th></th>\n",
       "      <th>0</th>\n",
       "      <th>Feature Importance</th>\n",
       "    </tr>\n",
       "  </thead>\n",
       "  <tbody>\n",
       "    <tr>\n",
       "      <th>297</th>\n",
       "      <td>GrLivArea</td>\n",
       "      <td>0.072329</td>\n",
       "    </tr>\n",
       "    <tr>\n",
       "      <th>291</th>\n",
       "      <td>LotArea</td>\n",
       "      <td>0.067443</td>\n",
       "    </tr>\n",
       "    <tr>\n",
       "      <th>295</th>\n",
       "      <td>BsmtUnfSF</td>\n",
       "      <td>0.064318</td>\n",
       "    </tr>\n",
       "    <tr>\n",
       "      <th>296</th>\n",
       "      <td>TotalBsmtSF</td>\n",
       "      <td>0.053387</td>\n",
       "    </tr>\n",
       "    <tr>\n",
       "      <th>309</th>\n",
       "      <td>GarageArea</td>\n",
       "      <td>0.045023</td>\n",
       "    </tr>\n",
       "    <tr>\n",
       "      <th>311</th>\n",
       "      <td>OpenPorchSF</td>\n",
       "      <td>0.034714</td>\n",
       "    </tr>\n",
       "    <tr>\n",
       "      <th>310</th>\n",
       "      <td>WoodDeckSF</td>\n",
       "      <td>0.033131</td>\n",
       "    </tr>\n",
       "    <tr>\n",
       "      <th>294</th>\n",
       "      <td>MasVnrArea</td>\n",
       "      <td>0.032824</td>\n",
       "    </tr>\n",
       "    <tr>\n",
       "      <th>307</th>\n",
       "      <td>HomeAge</td>\n",
       "      <td>0.032490</td>\n",
       "    </tr>\n",
       "    <tr>\n",
       "      <th>290</th>\n",
       "      <td>LotFrontage</td>\n",
       "      <td>0.031327</td>\n",
       "    </tr>\n",
       "    <tr>\n",
       "      <th>306</th>\n",
       "      <td>GarageAge</td>\n",
       "      <td>0.026051</td>\n",
       "    </tr>\n",
       "    <tr>\n",
       "      <th>292</th>\n",
       "      <td>OverallQual</td>\n",
       "      <td>0.018018</td>\n",
       "    </tr>\n",
       "    <tr>\n",
       "      <th>305</th>\n",
       "      <td>TotRmsAbvGrd</td>\n",
       "      <td>0.011843</td>\n",
       "    </tr>\n",
       "    <tr>\n",
       "      <th>293</th>\n",
       "      <td>OverallCond</td>\n",
       "      <td>0.011219</td>\n",
       "    </tr>\n",
       "    <tr>\n",
       "      <th>314</th>\n",
       "      <td>ScreenPorch</td>\n",
       "      <td>0.011080</td>\n",
       "    </tr>\n",
       "    <tr>\n",
       "      <th>48</th>\n",
       "      <td>neighborhood__CollgCr</td>\n",
       "      <td>0.009047</td>\n",
       "    </tr>\n",
       "    <tr>\n",
       "      <th>263</th>\n",
       "      <td>monthsold__6</td>\n",
       "      <td>0.007614</td>\n",
       "    </tr>\n",
       "    <tr>\n",
       "      <th>303</th>\n",
       "      <td>BedroomAbvGr</td>\n",
       "      <td>0.007036</td>\n",
       "    </tr>\n",
       "    <tr>\n",
       "      <th>267</th>\n",
       "      <td>monthsold__10</td>\n",
       "      <td>0.006609</td>\n",
       "    </tr>\n",
       "    <tr>\n",
       "      <th>271</th>\n",
       "      <td>yrsold__2007</td>\n",
       "      <td>0.006466</td>\n",
       "    </tr>\n",
       "  </tbody>\n",
       "</table>\n",
       "</div>"
      ],
      "text/plain": [
       "                         0  Feature Importance\n",
       "297              GrLivArea            0.072329\n",
       "291                LotArea            0.067443\n",
       "295              BsmtUnfSF            0.064318\n",
       "296            TotalBsmtSF            0.053387\n",
       "309             GarageArea            0.045023\n",
       "311            OpenPorchSF            0.034714\n",
       "310             WoodDeckSF            0.033131\n",
       "294             MasVnrArea            0.032824\n",
       "307                HomeAge            0.032490\n",
       "290            LotFrontage            0.031327\n",
       "306              GarageAge            0.026051\n",
       "292            OverallQual            0.018018\n",
       "305           TotRmsAbvGrd            0.011843\n",
       "293            OverallCond            0.011219\n",
       "314            ScreenPorch            0.011080\n",
       "48   neighborhood__CollgCr            0.009047\n",
       "263           monthsold__6            0.007614\n",
       "303           BedroomAbvGr            0.007036\n",
       "267          monthsold__10            0.006609\n",
       "271           yrsold__2007            0.006466"
      ]
     },
     "execution_count": 74,
     "metadata": {},
     "output_type": "execute_result"
    }
   ],
   "source": [
    "df_gb_features.sort_values(by = 'Feature Importance', ascending = False).head(20)"
   ]
  },
  {
   "cell_type": "code",
   "execution_count": 76,
   "metadata": {},
   "outputs": [
    {
     "data": {
      "text/plain": [
       "{'alpha': 0.9,\n",
       " 'criterion': 'friedman_mse',\n",
       " 'init': None,\n",
       " 'learning_rate': 0.05,\n",
       " 'loss': 'ls',\n",
       " 'max_depth': 3,\n",
       " 'max_features': None,\n",
       " 'max_leaf_nodes': None,\n",
       " 'min_impurity_decrease': 0.0,\n",
       " 'min_impurity_split': None,\n",
       " 'min_samples_leaf': 1,\n",
       " 'min_samples_split': 2,\n",
       " 'min_weight_fraction_leaf': 0.0,\n",
       " 'n_estimators': 5000,\n",
       " 'presort': 'auto',\n",
       " 'random_state': 42,\n",
       " 'subsample': 1.0,\n",
       " 'verbose': 0,\n",
       " 'warm_start': False}"
      ]
     },
     "execution_count": 76,
     "metadata": {},
     "output_type": "execute_result"
    }
   ],
   "source": [
    "gbc.get_params()"
   ]
  },
  {
   "cell_type": "code",
   "execution_count": 135,
   "metadata": {
    "collapsed": true
   },
   "outputs": [],
   "source": [
    "gbc2 = GradientBoostingRegressor(loss='ls', learning_rate=0.05, n_estimators=5000, min_samples_split=2, min_samples_leaf=1, max_depth=4, random_state=42)"
   ]
  },
  {
   "cell_type": "code",
   "execution_count": 136,
   "metadata": {},
   "outputs": [
    {
     "data": {
      "text/plain": [
       "GradientBoostingRegressor(alpha=0.9, criterion='friedman_mse', init=None,\n",
       "             learning_rate=0.05, loss='ls', max_depth=4, max_features=None,\n",
       "             max_leaf_nodes=None, min_impurity_decrease=0.0,\n",
       "             min_impurity_split=None, min_samples_leaf=1,\n",
       "             min_samples_split=2, min_weight_fraction_leaf=0.0,\n",
       "             n_estimators=5000, presort='auto', random_state=42,\n",
       "             subsample=1.0, verbose=0, warm_start=False)"
      ]
     },
     "execution_count": 136,
     "metadata": {},
     "output_type": "execute_result"
    }
   ],
   "source": [
    "gbc2.fit(X_train,Y_train)"
   ]
  },
  {
   "cell_type": "code",
   "execution_count": 137,
   "metadata": {
    "collapsed": true
   },
   "outputs": [],
   "source": [
    "df_f = pd.DataFrame(X.columns)"
   ]
  },
  {
   "cell_type": "code",
   "execution_count": 138,
   "metadata": {
    "collapsed": true
   },
   "outputs": [],
   "source": [
    "df_f['Feature Importance'] = gbc2.feature_importances_"
   ]
  },
  {
   "cell_type": "code",
   "execution_count": 139,
   "metadata": {},
   "outputs": [
    {
     "data": {
      "text/html": [
       "<div>\n",
       "<style>\n",
       "    .dataframe thead tr:only-child th {\n",
       "        text-align: right;\n",
       "    }\n",
       "\n",
       "    .dataframe thead th {\n",
       "        text-align: left;\n",
       "    }\n",
       "\n",
       "    .dataframe tbody tr th {\n",
       "        vertical-align: top;\n",
       "    }\n",
       "</style>\n",
       "<table border=\"1\" class=\"dataframe\">\n",
       "  <thead>\n",
       "    <tr style=\"text-align: right;\">\n",
       "      <th></th>\n",
       "      <th>0</th>\n",
       "      <th>Feature Importance</th>\n",
       "    </tr>\n",
       "  </thead>\n",
       "  <tbody>\n",
       "    <tr>\n",
       "      <th>291</th>\n",
       "      <td>LotArea</td>\n",
       "      <td>0.078681</td>\n",
       "    </tr>\n",
       "    <tr>\n",
       "      <th>295</th>\n",
       "      <td>BsmtUnfSF</td>\n",
       "      <td>0.069082</td>\n",
       "    </tr>\n",
       "    <tr>\n",
       "      <th>297</th>\n",
       "      <td>GrLivArea</td>\n",
       "      <td>0.065018</td>\n",
       "    </tr>\n",
       "    <tr>\n",
       "      <th>296</th>\n",
       "      <td>TotalBsmtSF</td>\n",
       "      <td>0.050387</td>\n",
       "    </tr>\n",
       "    <tr>\n",
       "      <th>309</th>\n",
       "      <td>GarageArea</td>\n",
       "      <td>0.048785</td>\n",
       "    </tr>\n",
       "  </tbody>\n",
       "</table>\n",
       "</div>"
      ],
      "text/plain": [
       "               0  Feature Importance\n",
       "291      LotArea            0.078681\n",
       "295    BsmtUnfSF            0.069082\n",
       "297    GrLivArea            0.065018\n",
       "296  TotalBsmtSF            0.050387\n",
       "309   GarageArea            0.048785"
      ]
     },
     "execution_count": 139,
     "metadata": {},
     "output_type": "execute_result"
    }
   ],
   "source": [
    "df_f.sort_values(by = 'Feature Importance', ascending = False).head()"
   ]
  },
  {
   "cell_type": "code",
   "execution_count": 140,
   "metadata": {},
   "outputs": [
    {
     "data": {
      "text/plain": [
       "0.9028829667004089"
      ]
     },
     "execution_count": 140,
     "metadata": {},
     "output_type": "execute_result"
    }
   ],
   "source": [
    "r2_score(Y_test, gbc2.predict(X_test))"
   ]
  },
  {
   "cell_type": "code",
   "execution_count": 141,
   "metadata": {},
   "outputs": [
    {
     "data": {
      "text/plain": [
       "677691764.1488115"
      ]
     },
     "execution_count": 141,
     "metadata": {},
     "output_type": "execute_result"
    }
   ],
   "source": [
    "mean_squared_error(Y_test, gbc2.predict(X_test))"
   ]
  },
  {
   "cell_type": "code",
   "execution_count": null,
   "metadata": {
    "collapsed": true
   },
   "outputs": [],
   "source": []
  }
 ],
 "metadata": {
  "kernelspec": {
   "display_name": "Python 3",
   "language": "python",
   "name": "python3"
  },
  "language_info": {
   "codemirror_mode": {
    "name": "ipython",
    "version": 3
   },
   "file_extension": ".py",
   "mimetype": "text/x-python",
   "name": "python",
   "nbconvert_exporter": "python",
   "pygments_lexer": "ipython3",
   "version": "3.6.2"
  }
 },
 "nbformat": 4,
 "nbformat_minor": 2
}
